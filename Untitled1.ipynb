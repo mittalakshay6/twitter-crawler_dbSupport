{
 "cells": [
  {
   "cell_type": "code",
   "execution_count": 1,
   "metadata": {},
   "outputs": [],
   "source": [
    "%load_ext autoreload"
   ]
  },
  {
   "cell_type": "code",
   "execution_count": 2,
   "metadata": {},
   "outputs": [],
   "source": [
    "%autoreload 1"
   ]
  },
  {
   "cell_type": "code",
   "execution_count": 3,
   "metadata": {},
   "outputs": [],
   "source": [
    "%autoreload 2"
   ]
  },
  {
   "cell_type": "code",
   "execution_count": 12,
   "metadata": {},
   "outputs": [],
   "source": [
    "from twitterscraper.tweet import Tweet\n",
    "from pymongo import MongoClient"
   ]
  },
  {
   "cell_type": "code",
   "execution_count": 6,
   "metadata": {},
   "outputs": [
    {
     "data": {
      "text/plain": [
       "-1"
      ]
     },
     "execution_count": 6,
     "metadata": {},
     "output_type": "execute_result"
    }
   ],
   "source": [
    "Tweet.tweet_url(999, 'mySecurityTweets.json')"
   ]
  },
  {
   "cell_type": "code",
   "execution_count": 7,
   "metadata": {},
   "outputs": [],
   "source": [
    "post={\"html\": Tweet.tweet_html(20, 'mySecurityTweets.json'), \n",
    "     \"url\": Tweet.tweet_url(20, 'mySecurityTweets.json')}"
   ]
  },
  {
   "cell_type": "code",
   "execution_count": 8,
   "metadata": {},
   "outputs": [
    {
     "data": {
      "text/plain": [
       "{'html': '<p class=\"TweetTextSize js-tweet-text tweet-text\" data-aria-label-part=\"0\" lang=\"en\">RT @Netw0rkSecurity2012#OWASP SmartDev <strong>SQL</strong> <strong>Injection</strong> <strong>Vulnerability</strong> | Inj3ct0r - exploit database     - SmartDev <strong>SQL</strong> <strong>Injection</strong> Vulnera...</p>',\n",
       " 'url': 'www.twitter.com/practical_pci/status/194531137488560129'}"
      ]
     },
     "execution_count": 8,
     "metadata": {},
     "output_type": "execute_result"
    }
   ],
   "source": [
    "post"
   ]
  },
  {
   "cell_type": "code",
   "execution_count": 14,
   "metadata": {},
   "outputs": [],
   "source": [
    "client = MongoClient()"
   ]
  },
  {
   "cell_type": "code",
   "execution_count": 15,
   "metadata": {},
   "outputs": [],
   "source": [
    "db=client.testMyDb"
   ]
  },
  {
   "cell_type": "code",
   "execution_count": 16,
   "metadata": {},
   "outputs": [],
   "source": [
    "collection = db.testMyCollection"
   ]
  },
  {
   "cell_type": "code",
   "execution_count": 17,
   "metadata": {},
   "outputs": [],
   "source": [
    "posts = db.posts"
   ]
  },
  {
   "cell_type": "code",
   "execution_count": 18,
   "metadata": {},
   "outputs": [],
   "source": [
    "post_id = posts.insert_one(post).inserted_id"
   ]
  },
  {
   "cell_type": "code",
   "execution_count": 19,
   "metadata": {},
   "outputs": [
    {
     "data": {
      "text/plain": [
       "ObjectId('5b14d6385e670742789111e6')"
      ]
     },
     "execution_count": 19,
     "metadata": {},
     "output_type": "execute_result"
    }
   ],
   "source": [
    "post_id"
   ]
  },
  {
   "cell_type": "code",
   "execution_count": 21,
   "metadata": {},
   "outputs": [
    {
     "data": {
      "text/plain": [
       "['posts']"
      ]
     },
     "execution_count": 21,
     "metadata": {},
     "output_type": "execute_result"
    }
   ],
   "source": [
    "db.collection_names(include_system_collections=False)"
   ]
  },
  {
   "cell_type": "code",
   "execution_count": 22,
   "metadata": {},
   "outputs": [],
   "source": [
    "import pprint"
   ]
  },
  {
   "cell_type": "code",
   "execution_count": 34,
   "metadata": {},
   "outputs": [
    {
     "name": "stdout",
     "output_type": "stream",
     "text": [
      "{'_id': ObjectId('5b14d6385e670742789111e6'),\n",
      " 'html': '<p class=\"TweetTextSize js-tweet-text tweet-text\" '\n",
      "         'data-aria-label-part=\"0\" lang=\"en\">RT @Netw0rkSecurity2012#OWASP '\n",
      "         'SmartDev <strong>SQL</strong> <strong>Injection</strong> '\n",
      "         '<strong>Vulnerability</strong> | Inj3ct0r - exploit database     - '\n",
      "         'SmartDev <strong>SQL</strong> <strong>Injection</strong> '\n",
      "         'Vulnera...</p>',\n",
      " 'url': 'www.twitter.com/practical_pci/status/194531137488560129'}\n"
     ]
    }
   ],
   "source": [
    "pprint.pprint(posts.find_one())"
   ]
  },
  {
   "cell_type": "code",
   "execution_count": 28,
   "metadata": {},
   "outputs": [],
   "source": [
    "post={\"html\": Tweet.tweet_html(2, 'mySecurityTweets.json'), \n",
    "     \"url\": Tweet.tweet_url(2, 'mySecurityTweets.json')}"
   ]
  },
  {
   "cell_type": "code",
   "execution_count": 29,
   "metadata": {},
   "outputs": [
    {
     "data": {
      "text/plain": [
       "<pymongo.results.InsertOneResult at 0x201ff420388>"
      ]
     },
     "execution_count": 29,
     "metadata": {},
     "output_type": "execute_result"
    }
   ],
   "source": [
    "posts.insert_one(post)"
   ]
  },
  {
   "cell_type": "code",
   "execution_count": 35,
   "metadata": {},
   "outputs": [
    {
     "name": "stdout",
     "output_type": "stream",
     "text": [
      "{'_id': ObjectId('5b14d6385e670742789111e6'),\n",
      " 'html': '<p class=\"TweetTextSize js-tweet-text tweet-text\" '\n",
      "         'data-aria-label-part=\"0\" lang=\"en\">RT @Netw0rkSecurity2012#OWASP '\n",
      "         'SmartDev <strong>SQL</strong> <strong>Injection</strong> '\n",
      "         '<strong>Vulnerability</strong> | Inj3ct0r - exploit database     - '\n",
      "         'SmartDev <strong>SQL</strong> <strong>Injection</strong> '\n",
      "         'Vulnera...</p>',\n",
      " 'url': 'www.twitter.com/practical_pci/status/194531137488560129'}\n",
      "{'_id': ObjectId('5b14d98e5e670742789111e7'),\n",
      " 'html': '<p class=\"TweetTextSize js-tweet-text tweet-text\" '\n",
      "         'data-aria-label-part=\"0\" lang=\"en\"><strong>Vulnerability</strong> '\n",
      "         'Note VU#217836 - Wave EMBASSY Remote Administration Server '\n",
      "         '<strong>SQL</strong> <strong>injection</strong> vul, <a '\n",
      "         'class=\"twitter-timeline-link\" '\n",
      "         'data-expanded-url=\"http://www.netsecu.org/#1d794f81d\" dir=\"ltr\" '\n",
      "         'href=\"http://t.co/CHbdGZodnm\" rel=\"nofollow noopener\" '\n",
      "         'target=\"_blank\" title=\"http://www.netsecu.org/#1d794f81d\"><span '\n",
      "         'class=\"tco-ellipsis\"></span><span '\n",
      "         'class=\"invisible\">http://www.</span><span '\n",
      "         'class=\"js-display-url\">netsecu.org/#1d794f81d</span><span '\n",
      "         'class=\"invisible\"></span><span class=\"tco-ellipsis\"><span '\n",
      "         'class=\"invisible\">\\xa0</span></span></a></p>',\n",
      " 'url': 'www.twitter.com/netsecu/status/355703147873841152'}\n"
     ]
    }
   ],
   "source": [
    "for post in posts.find():\n",
    "    pprint.pprint(post)"
   ]
  },
  {
   "cell_type": "code",
   "execution_count": 36,
   "metadata": {},
   "outputs": [],
   "source": [
    "data=posts.find()"
   ]
  },
  {
   "cell_type": "code",
   "execution_count": 37,
   "metadata": {},
   "outputs": [
    {
     "data": {
      "text/plain": [
       "<pymongo.cursor.Cursor at 0x201ff42d748>"
      ]
     },
     "execution_count": 37,
     "metadata": {},
     "output_type": "execute_result"
    }
   ],
   "source": [
    "data"
   ]
  },
  {
   "cell_type": "code",
   "execution_count": 38,
   "metadata": {},
   "outputs": [
    {
     "data": {
      "text/plain": [
       "{'_id': ObjectId('5b14d6385e670742789111e6'),\n",
       " 'html': '<p class=\"TweetTextSize js-tweet-text tweet-text\" data-aria-label-part=\"0\" lang=\"en\">RT @Netw0rkSecurity2012#OWASP SmartDev <strong>SQL</strong> <strong>Injection</strong> <strong>Vulnerability</strong> | Inj3ct0r - exploit database     - SmartDev <strong>SQL</strong> <strong>Injection</strong> Vulnera...</p>',\n",
       " 'url': 'www.twitter.com/practical_pci/status/194531137488560129'}"
      ]
     },
     "execution_count": 38,
     "metadata": {},
     "output_type": "execute_result"
    }
   ],
   "source": [
    "data[0]"
   ]
  },
  {
   "cell_type": "code",
   "execution_count": 39,
   "metadata": {},
   "outputs": [
    {
     "data": {
      "text/plain": [
       "{'_id': ObjectId('5b14d98e5e670742789111e7'),\n",
       " 'html': '<p class=\"TweetTextSize js-tweet-text tweet-text\" data-aria-label-part=\"0\" lang=\"en\"><strong>Vulnerability</strong> Note VU#217836 - Wave EMBASSY Remote Administration Server <strong>SQL</strong> <strong>injection</strong> vul, <a class=\"twitter-timeline-link\" data-expanded-url=\"http://www.netsecu.org/#1d794f81d\" dir=\"ltr\" href=\"http://t.co/CHbdGZodnm\" rel=\"nofollow noopener\" target=\"_blank\" title=\"http://www.netsecu.org/#1d794f81d\"><span class=\"tco-ellipsis\"></span><span class=\"invisible\">http://www.</span><span class=\"js-display-url\">netsecu.org/#1d794f81d</span><span class=\"invisible\"></span><span class=\"tco-ellipsis\"><span class=\"invisible\">\\xa0</span></span></a></p>',\n",
       " 'url': 'www.twitter.com/netsecu/status/355703147873841152'}"
      ]
     },
     "execution_count": 39,
     "metadata": {},
     "output_type": "execute_result"
    }
   ],
   "source": [
    "data[1]"
   ]
  },
  {
   "cell_type": "code",
   "execution_count": 40,
   "metadata": {},
   "outputs": [
    {
     "data": {
      "text/plain": [
       "2"
      ]
     },
     "execution_count": 40,
     "metadata": {},
     "output_type": "execute_result"
    }
   ],
   "source": [
    "posts.count()"
   ]
  },
  {
   "cell_type": "code",
   "execution_count": null,
   "metadata": {},
   "outputs": [],
   "source": []
  }
 ],
 "metadata": {
  "kernelspec": {
   "display_name": "Python 3",
   "language": "python",
   "name": "python3"
  },
  "language_info": {
   "codemirror_mode": {
    "name": "ipython",
    "version": 3
   },
   "file_extension": ".py",
   "mimetype": "text/x-python",
   "name": "python",
   "nbconvert_exporter": "python",
   "pygments_lexer": "ipython3",
   "version": "3.6.4"
  }
 },
 "nbformat": 4,
 "nbformat_minor": 2
}
