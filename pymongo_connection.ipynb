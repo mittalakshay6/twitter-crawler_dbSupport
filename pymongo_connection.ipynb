{
 "cells": [
  {
   "cell_type": "code",
   "execution_count": 88,
   "metadata": {},
   "outputs": [],
   "source": [
    "from pymongo import MongoClient"
   ]
  },
  {
   "cell_type": "code",
   "execution_count": 89,
   "metadata": {},
   "outputs": [],
   "source": [
    "client=MongoClient()"
   ]
  },
  {
   "cell_type": "code",
   "execution_count": 90,
   "metadata": {},
   "outputs": [],
   "source": [
    "db=client.test_database"
   ]
  },
  {
   "cell_type": "code",
   "execution_count": 91,
   "metadata": {},
   "outputs": [],
   "source": [
    "collection = db.test_collection"
   ]
  },
  {
   "cell_type": "code",
   "execution_count": 92,
   "metadata": {},
   "outputs": [],
   "source": [
    "from twitterscraper.tweet import Tweet"
   ]
  },
  {
   "cell_type": "code",
   "execution_count": 95,
   "metadata": {},
   "outputs": [
    {
     "ename": "TypeError",
     "evalue": "tweet_html() takes 2 positional arguments but 3 were given",
     "output_type": "error",
     "traceback": [
      "\u001b[1;31m---------------------------------------------------------------------------\u001b[0m",
      "\u001b[1;31mTypeError\u001b[0m                                 Traceback (most recent call last)",
      "\u001b[1;32m<ipython-input-95-6ff0c06eeed2>\u001b[0m in \u001b[0;36m<module>\u001b[1;34m()\u001b[0m\n\u001b[1;32m----> 1\u001b[1;33m post={\"html\": Tweet.tweet_html('mySecurityTweets.json', 2), \n\u001b[0m\u001b[0;32m      2\u001b[0m      \"url\": Tweet.tweet_url('mySecurityTweets.json', 2)}\n",
      "\u001b[1;31mTypeError\u001b[0m: tweet_html() takes 2 positional arguments but 3 were given"
     ]
    }
   ],
   "source": [
    "post={\"html\": Tweet.tweet_html('mySecurityTweets.json', 2), \n",
    "     \"url\": Tweet.tweet_url('mySecurityTweets.json', 2)}"
   ]
  },
  {
   "cell_type": "code",
   "execution_count": 94,
   "metadata": {},
   "outputs": [
    {
     "data": {
      "text/plain": [
       "{'html': '<p class=\"TweetTextSize js-tweet-text tweet-text\" data-aria-label-part=\"0\" lang=\"en\"><a class=\"twitter-timeline-link\" data-expanded-url=\"http://Avira.com\" dir=\"ltr\" href=\"http://t.co/dRZiG0rpzK\" rel=\"nofollow noopener\" target=\"_blank\" title=\"http://Avira.com\"><span class=\"tco-ellipsis\"></span><span class=\"invisible\">http://</span><span class=\"js-display-url\">Avira.com</span><span class=\"invisible\"></span><span class=\"tco-ellipsis\"><span class=\"invisible\">\\xa0</span></span></a> <strong>SQL</strong> <strong>Injection</strong> <strong>Vulnerability</strong>: <a class=\"twitter-timeline-link\" data-expanded-url=\"http://youtu.be/Odko5PTKA-Q\" dir=\"ltr\" href=\"http://t.co/xfPSHzv7iT\" rel=\"nofollow noopener\" target=\"_blank\" title=\"http://youtu.be/Odko5PTKA-Q\"><span class=\"tco-ellipsis\"></span><span class=\"invisible\">http://</span><span class=\"js-display-url\">youtu.be/Odko5PTKA-Q</span><span class=\"invisible\"></span><span class=\"tco-ellipsis\"><span class=\"invisible\">\\xa0</span></span></a> via <a class=\"twitter-atreply pretty-link js-nav\" data-mentioned-user-id=\"10228272\" dir=\"ltr\" href=\"/YouTube\"><s>@</s><b>youtube</b></a></p>',\n",
       " 'url': 'www.twitter.com/teoseller/status/355734926634659841'}"
      ]
     },
     "execution_count": 94,
     "metadata": {},
     "output_type": "execute_result"
    }
   ],
   "source": [
    "post"
   ]
  },
  {
   "cell_type": "code",
   "execution_count": null,
   "metadata": {},
   "outputs": [],
   "source": []
  },
  {
   "cell_type": "code",
   "execution_count": null,
   "metadata": {},
   "outputs": [],
   "source": []
  },
  {
   "cell_type": "code",
   "execution_count": null,
   "metadata": {},
   "outputs": [],
   "source": []
  },
  {
   "cell_type": "code",
   "execution_count": null,
   "metadata": {},
   "outputs": [],
   "source": []
  },
  {
   "cell_type": "code",
   "execution_count": null,
   "metadata": {},
   "outputs": [],
   "source": []
  },
  {
   "cell_type": "code",
   "execution_count": null,
   "metadata": {},
   "outputs": [],
   "source": []
  },
  {
   "cell_type": "code",
   "execution_count": null,
   "metadata": {},
   "outputs": [],
   "source": []
  }
 ],
 "metadata": {
  "kernelspec": {
   "display_name": "Python 3",
   "language": "python",
   "name": "python3"
  },
  "language_info": {
   "codemirror_mode": {
    "name": "ipython",
    "version": 3
   },
   "file_extension": ".py",
   "mimetype": "text/x-python",
   "name": "python",
   "nbconvert_exporter": "python",
   "pygments_lexer": "ipython3",
   "version": "3.6.4"
  }
 },
 "nbformat": 4,
 "nbformat_minor": 2
}
